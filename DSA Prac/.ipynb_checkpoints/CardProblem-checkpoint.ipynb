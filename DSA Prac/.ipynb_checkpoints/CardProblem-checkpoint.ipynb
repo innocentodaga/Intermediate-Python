{
 "cells": [
  {
   "cell_type": "code",
   "execution_count": 1,
   "id": "c4f1418f-5a04-42c4-b19c-e7d330b79932",
   "metadata": {},
   "outputs": [],
   "source": [
    "# Question: \n",
    "# Alice has some cards with numbers written on them, She arranges the\n",
    "# cards in decreasing order, and lays them out face down in a sequence\n",
    "# on a table. She challenges Bob to pick out the card containing a \n",
    "# given number by turning over as few cards as possible. \n",
    "# Write a function to help Bob locate the card\n",
    "\n",
    "#-----------------Solution to the above problem----------------------#\n",
    "\n",
    "#=====1. State the problem clearly, Identify the inputs and outputs formats\n",
    "# i) PROBLEM :- write a program to find the position of a given number in a list of numbers arranged\n",
    "# in descending order, we need to minimize the number of times we access elements from the list\n",
    "# ii) INPUTS :- cards-- list of sorted descending numbers e.g [13,12,11,10,9,8,7,6,5,4,3,2,1,0]\n",
    "# query -- the number whose position is to be determined\n",
    "# iii) OUTPUTS :- position - the index of the query in the list e.g 4\n",
    "\n",
    "# 2  Possible variations to take into consideration---What if...\n",
    "# a) The number query occurs somewhere in the middle of the list cards\n",
    "# b) query is the first element in cards\n",
    "# c) query is the last element in cards\n",
    "# d) The list cards contains just one element, which is query\n",
    "# e) The list cards does not contain number query\n",
    "# f) The list cards is empty\n",
    "# g) The list cards contains repeating numbers?\n",
    "# h) The number query occurs at more than one position in cards\n"
   ]
  },
  {
   "cell_type": "code",
   "execution_count": 2,
   "id": "5b22f82c-9202-476f-bf62-b2aa21f3dcb5",
   "metadata": {
    "editable": true,
    "slideshow": {
     "slide_type": ""
    },
    "tags": []
   },
   "outputs": [],
   "source": [
    "# The best idea would be to pick a random card, and use the fact that the list is \n",
    "# sorted, to determine whether the target card lies to the left or right of it. In\n",
    "# fact, if we pick the middle card, we can reduce the number of additional cards to \n",
    "# be tested to half the size of the list. Then we can simply repeat the process with\n",
    "# each half. This technique is called binary search. Here is a visual explanation\n",
    "\n"
   ]
  },
  {
   "cell_type": "code",
   "execution_count": 3,
   "id": "646a45c7-e614-4073-a173-26c975879ffe",
   "metadata": {},
   "outputs": [],
   "source": [
    "# 3 come up with a correct solution for the problem. State it in plain English\n",
    "# i) Find the middle element of the list.\n",
    "# ii) If it matches queried number, return the middle position as the answer.\n",
    "# iii) If it is less than the queried number, then search the first half of the list\n",
    "# iv) If it is greter than the queried number, then search teh second half of the list\n",
    "# v) If no more elements remain, return -1\n"
   ]
  },
  {
   "cell_type": "code",
   "execution_count": null,
   "id": "c3eaface-1949-4a69-8cb1-d90431b73fda",
   "metadata": {},
   "outputs": [],
   "source": [
    "# 4 Implement the solution and test it using example inputs. Fix bugs if any\n",
    "def locate_card(card, query):\n",
    "    lo, hi = 0, len(cards) - 1\n",
    "\n",
    "    while lo < hi:\n",
    "        mid = (lo + hi) // 2\n",
    "        mid_number = cards[mid]\n",
    "\n",
    "        print(\"lo:\", lo, \", hi:\", hi, \", mid:\", mid, \", mid_number:\", mid_number)\n",
    "    \n",
    "        if mid_number == query:\n",
    "            return mid\n",
    "        elif mid_number < query:\n",
    "            hi = mid - 1\n",
    "        elif mid_number > query:\n",
    "            lo = mid + 1\n",
    "    return -1"
   ]
  },
  {
   "cell_type": "code",
   "execution_count": null,
   "id": "d62502be",
   "metadata": {},
   "outputs": [],
   "source": []
  }
 ],
 "metadata": {
  "kernelspec": {
   "display_name": "Python 3 (ipykernel)",
   "language": "python",
   "name": "python3"
  },
  "language_info": {
   "codemirror_mode": {
    "name": "ipython",
    "version": 3
   },
   "file_extension": ".py",
   "mimetype": "text/x-python",
   "name": "python",
   "nbconvert_exporter": "python",
   "pygments_lexer": "ipython3",
   "version": "3.12.1"
  }
 },
 "nbformat": 4,
 "nbformat_minor": 5
}
