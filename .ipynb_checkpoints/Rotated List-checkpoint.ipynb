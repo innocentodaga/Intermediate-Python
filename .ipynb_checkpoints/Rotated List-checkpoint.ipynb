{
 "cells": [
  {
   "cell_type": "markdown",
   "id": "59b8fae1-54b4-43af-b814-4a7b3e35439b",
   "metadata": {},
   "source": [
    "# Rotated Lists \n",
    "- You are given a list of numbers, obtained by rotating a sorted list an unknown number of times. Write a function to determine the minimum number of times the original sorted list was rotated to obtain the given list. YOur function should have the worst case complexity of O(log N), where N is the length of the list. You can assume that all the numbers in thelist are unique.\n",
    "\n",
    "### Example: \n",
    "* The list [5, 6, 9, 0, 2, 3, 4] was obtained by rotating the sorted list [0, 2, 3, 4, 5, 6, 9]\n",
    "\n",
    "\n",
    "### We define\n",
    "* 'Rotating a list' as removing the last element of the list and adding it before the \n",
    "first element. E.g rotating the list [3, 2, 4, 1] produces [1, 3, 2, 4]\n",
    "* 'Sorted list', refers to a list where the elements are arranged in the increasing order e.g [1, 3, 5, 7]"
   ]
  },
  {
   "cell_type": "markdown",
   "id": "3477db09-09b9-44ae-a2ea-2c116fb456a9",
   "metadata": {},
   "source": [
    "### The Method\n",
    "* State the problem clearly, identify the inputs and outputs\n",
    "* Come up with some example inputs and outputs. Try to cover all edge cases\n",
    "* Come up with tehe correct solution for the problem. State it in plain English\n",
    "* Implement the solution and test it using example inputs. Fix bugs, if any.\n",
    "* Analyze the algorithm's complexity and identify inefficiencies, if any.\n",
    "* Apply the right technique to overcome the inefficiency. Repeat steps 3 to 6."
   ]
  },
  {
   "cell_type": "markdown",
   "id": "80bbc73f-3166-434c-a49f-b15d683172ad",
   "metadata": {},
   "source": [
    "#### 1) State the problem clearly, identify the inputs and outputs\n"
   ]
  },
  {
   "cell_type": "code",
   "execution_count": 78,
   "id": "07bec61f-19f1-423c-9dbc-246cb87c6206",
   "metadata": {},
   "outputs": [],
   "source": [
    "def count_rotations(numbs):\n",
    "    pass"
   ]
  },
  {
   "cell_type": "markdown",
   "id": "446016d8-6f0b-4f1f-9a03-f8a3b896c8f9",
   "metadata": {},
   "source": [
    "#### 2) Come up with some example inputs and outputs. Try to cover all edge cases\n",
    "##### Test cases\n",
    "* We will express our test cases as dictionaries, to test them eeasily. Each dictionary\n",
    "* will contain 2 keys: input (a dictionary itself containing one key for each argument to\n",
    "* the function) and output(the expected result from the function)"
   ]
  },
  {
   "cell_type": "code",
   "execution_count": 66,
   "id": "a25f3c98-953e-4922-8bad-b55961a48b8e",
   "metadata": {},
   "outputs": [],
   "source": [
    "\n",
    "test = {\n",
    "    'input': {\n",
    "        'nums': [19, 25, 29, 3, 5, 6, 7, 9, 11, 14]\n",
    "    },\n",
    "    'output': 3\n",
    "}"
   ]
  },
  {
   "cell_type": "code",
   "execution_count": 67,
   "id": "38ae550e-4cf3-496a-a420-d938167f77c2",
   "metadata": {},
   "outputs": [
    {
     "data": {
      "text/plain": [
       "(None, False)"
      ]
     },
     "execution_count": 67,
     "metadata": {},
     "output_type": "execute_result"
    }
   ],
   "source": [
    "# We can test the function by passing the input to it directly\n",
    "nums0 = test['input']['nums']\n",
    "output0 = test['output']\n",
    "result0 = count_rotations(nums0)\n",
    "\n",
    "result0, result0 == output0\n"
   ]
  },
  {
   "cell_type": "code",
   "execution_count": 68,
   "id": "07566ec1-625c-48dd-8971-b103e39e6256",
   "metadata": {},
   "outputs": [],
   "source": [
    "test0 = test"
   ]
  },
  {
   "cell_type": "code",
   "execution_count": 69,
   "id": "bfea4e87-76ea-4529-b788-8a97ab43b803",
   "metadata": {},
   "outputs": [],
   "source": [
    "# Test 0ne:- A list of size 8 rotated  times.\n",
    "test1 = {\n",
    "    'inputs': {\n",
    "        'nums': [19, 25, 29, 3, 5, 6, 7, 9, 11, 14]\n",
    "    },\n",
    "    'output': 5\n",
    "}"
   ]
  },
  {
   "cell_type": "code",
   "execution_count": 70,
   "id": "2b59d649-2f4e-4914-9f14-03ec51d7b260",
   "metadata": {},
   "outputs": [],
   "source": [
    "# Test two:- A list that was not rotated at all\n",
    "test2 = {\n",
    "    'inputs': {\n",
    "        'nums': [19, 25, 29, 3, 5, 6, 7, 9, 11, 14]\n",
    "    },\n",
    "    'output': 0\n",
    "}"
   ]
  },
  {
   "cell_type": "code",
   "execution_count": 71,
   "id": "2d788cda-fa30-4e18-8e3e-47e3f421ddaa",
   "metadata": {},
   "outputs": [],
   "source": [
    "# Test three:- A list that was rotated once\n",
    "test3 = {\n",
    "    'inputs': {\n",
    "        'nums': [19, 25, 29, 3, 5, 6, 7, 9, 11, 14]\n",
    "    },\n",
    "    'output': 1\n",
    "}"
   ]
  },
  {
   "cell_type": "code",
   "execution_count": 72,
   "id": "d78ba578-744c-460b-8bc7-21a570e8fa57",
   "metadata": {},
   "outputs": [],
   "source": [
    "# Test four:- A list that was rotated n-1 times, where n is the size of the list.\n",
    "test4 = {\n",
    "    'inputs': {\n",
    "        'nums': [19, 25, 29, 3, 5, 6, 7, 9, 11, 14]\n",
    "    },\n",
    "    'output': 9\n",
    "}"
   ]
  },
  {
   "cell_type": "code",
   "execution_count": 73,
   "id": "baa91402-7747-46b3-b4c9-58a731065167",
   "metadata": {},
   "outputs": [],
   "source": [
    "# Test five:- A list that was rotated n times, where n is the size of the list.\n",
    "test5 = {\n",
    "    'inputs': {\n",
    "        'nums': [19, 25, 29, 3, 5, 6, 7, 9, 11, 14]\n",
    "    },\n",
    "    'output': 0\n",
    "}"
   ]
  },
  {
   "cell_type": "code",
   "execution_count": 74,
   "id": "7267ea3b-bf33-4e58-b6bd-c83847c554c0",
   "metadata": {},
   "outputs": [],
   "source": [
    "# Test six:- An empty list\n",
    "test6 = {\n",
    "    'inputs': {\n",
    "        'nums': []\n",
    "    },\n",
    "    'output': 'List is Empty'\n",
    "}"
   ]
  },
  {
   "cell_type": "code",
   "execution_count": 75,
   "id": "fb92f8ef-a975-4ab1-a829-84e8e25c5d40",
   "metadata": {},
   "outputs": [],
   "source": [
    "# Test seven:- A list containing just one element\n",
    "test7 = {\n",
    "    'inputs': {\n",
    "        'nums': [6]\n",
    "    },\n",
    "    'output': 0\n",
    "}"
   ]
  },
  {
   "cell_type": "code",
   "execution_count": 76,
   "id": "253d4fb2-17dc-43a9-9ff5-03c835495fe0",
   "metadata": {},
   "outputs": [],
   "source": [
    "tests = [test0, test1, test2, test3, test4, test5, test6, test7]"
   ]
  },
  {
   "cell_type": "code",
   "execution_count": 77,
   "id": "297406e6-719f-4414-984c-eb6e6d403240",
   "metadata": {},
   "outputs": [
    {
     "data": {
      "text/plain": [
       "[{'input': {'nums': [19, 25, 29, 3, 5, 6, 7, 9, 11, 14]}, 'output': 3},\n",
       " {'inputs': {'nums': [19, 25, 29, 3, 5, 6, 7, 9, 11, 14]}, 'output': 5},\n",
       " {'inputs': {'nums': [19, 25, 29, 3, 5, 6, 7, 9, 11, 14]}, 'output': 0},\n",
       " {'inputs': {'nums': [19, 25, 29, 3, 5, 6, 7, 9, 11, 14]}, 'output': 1},\n",
       " {'inputs': {'nums': [19, 25, 29, 3, 5, 6, 7, 9, 11, 14]}, 'output': 9},\n",
       " {'inputs': {'nums': [19, 25, 29, 3, 5, 6, 7, 9, 11, 14]}, 'output': 0},\n",
       " {'inputs': {'nums': []}, 'output': 'List is Empty'},\n",
       " {'inputs': {'nums': [6]}, 'output': 0}]"
      ]
     },
     "execution_count": 77,
     "metadata": {},
     "output_type": "execute_result"
    }
   ],
   "source": [
    "tests"
   ]
  },
  {
   "cell_type": "markdown",
   "id": "0957ede4-488b-4a4b-8bb7-00f7fc986186",
   "metadata": {},
   "source": [
    "#### 3) Come up with the solution of the problem and state it in plain English\n",
    "* Our first goal should always be to come up with a correct solution to the problem, which may not necessarily be the most efficient solution. Try to think of a soluiton before you read further"
   ]
  },
  {
   "cell_type": "markdown",
   "id": "f7f07ccc-8efd-46c4-b121-8c909c60e04b",
   "metadata": {},
   "source": [
    "###### steps \n",
    "1. Create a variable position with value 1\n",
    "2. Compare the number at current position to the numbeer before it\n",
    "3. If the number is smalleer than its predecessor, then return position\n",
    "4. Otherwise, increment position and repeat till we exhaust all the numbers"
   ]
  },
  {
   "cell_type": "markdown",
   "id": "5b1cb650-175a-48f1-8e14-9949ddbf0c3c",
   "metadata": {},
   "source": [
    " #### 4) Implementation of the solution and testing it using example inputs. Fix bugs if any\n",
    " "
   ]
  },
  {
   "cell_type": "code",
   "execution_count": 82,
   "id": "0f1616f9-bec3-4224-b2bd-6421bea3e488",
   "metadata": {},
   "outputs": [],
   "source": [
    "def count_rotations_linear(nums):\n",
    "    position = 0            # What is the initial value of position?\n",
    "    \n",
    "    while position < len(nums): # when should the loop stop\n",
    "        # Success criteria: check whether the number at the current position\n",
    "        if position > 0 and nums[position] < nums[position-1]:\n",
    "            return position\n",
    "            \n",
    "        # move to the next position\n",
    "        position += 1\n",
    "    return 0        # What if none of the ppo"
   ]
  },
  {
   "cell_type": "code",
   "execution_count": 83,
   "id": "0d3ecf74-4050-48b0-9a1c-6eb140d19e1e",
   "metadata": {},
   "outputs": [
    {
     "data": {
      "text/plain": [
       "{'input': {'nums': [19, 25, 29, 3, 5, 6, 7, 9, 11, 14]}, 'output': 3}"
      ]
     },
     "execution_count": 83,
     "metadata": {},
     "output_type": "execute_result"
    }
   ],
   "source": [
    "test"
   ]
  },
  {
   "cell_type": "code",
   "execution_count": 92,
   "id": "e6112583-529e-4869-844c-1978a8db3df0",
   "metadata": {},
   "outputs": [
    {
     "data": {
      "text/plain": [
       "3"
      ]
     },
     "execution_count": 92,
     "metadata": {},
     "output_type": "execute_result"
    }
   ],
   "source": [
    "count_rotations_linear()"
   ]
  },
  {
   "cell_type": "code",
   "execution_count": null,
   "id": "7e999116-b8bd-4c61-9190-710ad6549090",
   "metadata": {},
   "outputs": [],
   "source": []
  },
  {
   "cell_type": "code",
   "execution_count": null,
   "id": "a43612e8-b52b-4a42-ba78-a6ab62428044",
   "metadata": {},
   "outputs": [],
   "source": []
  }
 ],
 "metadata": {
  "kernelspec": {
   "display_name": "Python 3 (ipykernel)",
   "language": "python",
   "name": "python3"
  },
  "language_info": {
   "codemirror_mode": {
    "name": "ipython",
    "version": 3
   },
   "file_extension": ".py",
   "mimetype": "text/x-python",
   "name": "python",
   "nbconvert_exporter": "python",
   "pygments_lexer": "ipython3",
   "version": "3.12.5"
  }
 },
 "nbformat": 4,
 "nbformat_minor": 5
}
