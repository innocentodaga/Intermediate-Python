{
 "cells": [
  {
   "cell_type": "markdown",
   "id": "7cac95d3-e9df-44b1-a688-e7e0780a6733",
   "metadata": {},
   "source": [
    "## Algorithm Analysis\n",
    "\n",
    "* You may also have noticed that it is common for computer programs to look very\n",
    "similar, especially the simple ones.\n",
    "* An interesting question often arises.\n",
    "* When two programs solve the same problem but look different, is one program better than the other?"
   ]
  },
  {
   "cell_type": "markdown",
   "id": "f82ef1fb-85c3-4fe8-b4be-4a6d614cb38a",
   "metadata": {},
   "source": [
    "* To explore this difference further, consider the function shown below. This function solves a familiar problem, computing the sum of the first 𝑛 integers.\n",
    "* The algorithm uses the idea of an accumulator variable that is initialized to 0.\n",
    "* The solution then iterates through the 𝑛 integers, adding each to the accumulator.\n"
   ]
  },
  {
   "cell_type": "code",
   "execution_count": 1,
   "id": "34d26c5d-7cd4-4681-a262-d13f94c95f22",
   "metadata": {},
   "outputs": [
    {
     "name": "stdout",
     "output_type": "stream",
     "text": [
      "55\n"
     ]
    }
   ],
   "source": [
    "def sum_of_n(n):\n",
    "    the_sum = 0\n",
    "    for i in range(1, n + 1): # we add 1 so we can include the last digit too\n",
    "        the_sum = the_sum + i\n",
    "    return the_sum # this becomes our new sum\n",
    "sum = sum_of_n(10)\n",
    "print(sum)"
   ]
  },
  {
   "cell_type": "markdown",
   "id": "77bdb090-df15-4bc7-b0d0-65247203c8d0",
   "metadata": {},
   "source": [
    "* Now look at the function foo below. At first glance it may look strange, but upon further inspection you can see that this function is essentially doing the same thing as the previous one.\n",
    "* The reason this is not obvious is poor coding. We did not use good identifier names to assist with readability, and we used an extra assignment statement during the accumulation step that was not really necessary."
   ]
  },
  {
   "cell_type": "code",
   "execution_count": 3,
   "id": "47d1edb7-fe95-4eb3-af1f-fe8da822ca01",
   "metadata": {},
   "outputs": [
    {
     "name": "stdout",
     "output_type": "stream",
     "text": [
      "55\n"
     ]
    }
   ],
   "source": [
    "def foo(tom):\n",
    "    fred = 0\n",
    "    for bill in range(1, tom + 1):\n",
    "        barney = bill\n",
    "        fred = barney + fred\n",
    "    return fred\n",
    "tyson = foo(10)\n",
    "print(tyson)"
   ]
  },
  {
   "cell_type": "markdown",
   "id": "d86a81f1-1109-4795-bd6f-7aa60199e2d6",
   "metadata": {},
   "source": [
    "* The question we raised earlier asked whether one function is better than another.\n",
    "* The answer depends on your criteria.\n",
    "* The function sum_of_n is certainly better than the function foo if you are concerned with readability\n",
    "\n",
    "  \n",
    "* Algorithm analysis is concerned with comparing algorithms based upon the amount of computing resources that each algorithm uses.\n",
    "* We want to be able to consider two algorithms and say that one is better than the other because it is more efficient in its use of those resources\n",
    "or perhaps because it simply uses fewer."
   ]
  },
  {
   "cell_type": "markdown",
   "id": "3b4b3e61-a76a-41fa-8b98-e5f70af1f732",
   "metadata": {},
   "source": [
    "##### Space consumption\n",
    "* One way is to consider the amount of space\n",
    "or memory an algorithm requires to solve the problem"
   ]
  },
  {
   "cell_type": "code",
   "execution_count": null,
   "id": "196163d8-e6ba-435c-9438-7b57bcb35189",
   "metadata": {},
   "outputs": [],
   "source": []
  },
  {
   "cell_type": "markdown",
   "id": "9f6c2352-1dc7-4ca9-82fb-da67b5bc1eca",
   "metadata": {},
   "source": [
    "##### Execution time\n",
    "* As an alternative to space requirements, we can analyze and compare algorithms based on the amount of time they require to execute.\n",
    "* This measure is sometimes referred to as the “execution time” or “running time” of the algorithm"
   ]
  },
  {
   "cell_type": "markdown",
   "id": "eb9d561b-a57e-4289-b938-7ec568cfacbe",
   "metadata": {},
   "source": [
    "* The function returns a tuple consisting of the result and the amount of\n",
    "time (in seconds) required for the calculation.\n",
    "* If we perform 5 invocations of the function, each computing the sum of the first 10, 000 integers, we get the following:\n"
   ]
  },
  {
   "cell_type": "code",
   "execution_count": 9,
   "id": "d90076f2-54ed-4d56-a443-3861a8a24813",
   "metadata": {},
   "outputs": [
    {
     "name": "stdout",
     "output_type": "stream",
     "text": [
      "Sum is 50005000 required  0.0009973 seconds\n",
      "Sum is 50005000 required  0.0019987 seconds\n",
      "Sum is 50005000 required  0.0019989 seconds\n",
      "Sum is 50005000 required  0.0019994 seconds\n",
      "Sum is 50005000 required  0.0020008 seconds\n"
     ]
    }
   ],
   "source": [
    "import time\n",
    "def sum_of_n_2(n):\n",
    "    start = time.time()\n",
    "\n",
    "    the_sum = 0\n",
    "    for i in range(1, n + 1):\n",
    "        the_sum = the_sum + i\n",
    "\n",
    "    end = time.time()\n",
    "    return the_sum, end-start\n",
    "\n",
    "for i in range(5):\n",
    "    print(\"Sum is %d required %10.7f seconds\" % sum_of_n_2(10000))\n"
   ]
  },
  {
   "cell_type": "markdown",
   "id": "16b2b45e-835b-43d0-830b-2f3415e36eba",
   "metadata": {},
   "source": [
    "* Again, for the time required for each run, although longer, is very consistent, averaging about 10 times more seconds.\n",
    "* For n equal to 1,000,000 we get"
   ]
  },
  {
   "cell_type": "code",
   "execution_count": 17,
   "id": "8bc25ab8-5f15-4c67-82ed-e2dddc314f40",
   "metadata": {},
   "outputs": [
    {
     "name": "stdout",
     "output_type": "stream",
     "text": [
      "Sum is 500000500000 required 0.16990066 seconds\n",
      "Sum is 500000500000 required 0.10893869 seconds\n",
      "Sum is 500000500000 required 0.10093927 seconds\n",
      "Sum is 500000500000 required 0.09794497 seconds\n",
      "Sum is 500000500000 required 0.14391685 seconds\n",
      "Sum is 500000500000 required 0.09794354 seconds\n"
     ]
    }
   ],
   "source": [
    "for i in range(6):\n",
    "    print(\"Sum is %d required %10.8f seconds\" % sum_of_n_2(1000000))"
   ]
  },
  {
   "cell_type": "markdown",
   "id": "8e1256ac-9e0d-4329-bd07-517290b45b53",
   "metadata": {},
   "source": [
    "### BIG-O NOTATION"
   ]
  },
  {
   "cell_type": "markdown",
   "id": "8da4dbb5-d048-4ee9-a324-b9924054761e",
   "metadata": {},
   "source": [
    "* When trying to characterize an algorithm’s efficiency in terms of execution time, independent of any particular program or computer, it is important to quantify the number of operations or steps that the algorithm will require.\n",
    "* If each of these steps is considered to be a basic unit of computation, then the execution time for an algorithm can be expressed as the number of steps\n",
    "required to solve the problem."
   ]
  },
  {
   "cell_type": "markdown",
   "id": "0e014610-b4c6-4771-8e48-fa3fbe086d72",
   "metadata": {},
   "source": [
    "* A good basic unit of computation for comparing the summation algorithms shown earlier might be to count the number of assignment statements performed to compute the sum.\n",
    "* In the function sum_of_n, the number of assignment statements is 1 (the_sum= 0) plus the value of n (the number of times we perform the_sum=the_sum+𝑖). We can denote this by a function, call it 𝑇, where 𝑇(𝑛) = 1 + 𝑛.\n",
    "* The parameter 𝑛 is often referred to as the “size of the problem,” and\n",
    "we can read this as “𝑇(𝑛) is the time it takes to solve a problem of size 𝑛, namely 1 + 𝑛 steps.”"
   ]
  },
  {
   "cell_type": "markdown",
   "id": "9f528b3d-5a4a-4909-9dbd-cf31da1a54a0",
   "metadata": {},
   "source": [
    "* As the problem gets larger, some portion of the 𝑇(𝑛) function tends to overpower the rest. \n",
    "* This dominant term is what, in the end, is used for comparison.\n",
    "* The order of magnitude function describes the part of 𝑇(𝑛) that increases the fastest as the value of 𝑛 increases.\n",
    "* Order of magnitude is often called Big-O notation (for “order”) and written as\n",
    "𝑂(𝑓(𝑛)).\n",
    "* It provides a useful approximation to the actual number of steps in the computation.\n",
    "* The function 𝑓(𝑛) provides a simple representation of the dominant part of the original 𝑇(𝑛)."
   ]
  },
  {
   "cell_type": "code",
   "execution_count": 3,
   "id": "744ccf64-8898-4225-af00-bd5ba8448963",
   "metadata": {},
   "outputs": [
    {
     "name": "stdout",
     "output_type": "stream",
     "text": [
      "2\n"
     ]
    }
   ],
   "source": [
    "lst = [2, 2, 4, 5, 6, 7, 8, 9]\n",
    "print(min(lst))\n",
    "\n"
   ]
  },
  {
   "cell_type": "code",
   "execution_count": 12,
   "id": "a70c9e6d-eac8-4b7c-896d-1825fcfc1ea0",
   "metadata": {},
   "outputs": [
    {
     "name": "stdout",
     "output_type": "stream",
     "text": [
      "2\n",
      "2\n",
      "2\n",
      "2\n",
      "2\n",
      "2\n",
      "2\n",
      "2\n",
      "2\n",
      "2\n",
      "2\n",
      "None\n"
     ]
    }
   ],
   "source": [
    "def min_number(list_numbers):\n",
    "    for i in list_numbers:\n",
    "        print(min(list_numbers))\n",
    "num = min_number([2,3,4,5,6,7,2,3,4,5,99])\n",
    "print(num)"
   ]
  },
  {
   "cell_type": "code",
   "execution_count": 8,
   "id": "4356caca-6bb2-48ab-9f63-a834e969a13f",
   "metadata": {},
   "outputs": [
    {
     "name": "stdout",
     "output_type": "stream",
     "text": [
      "0.34\n",
      "None\n"
     ]
    }
   ],
   "source": [
    "def min_nums(list_nums):\n",
    "    print(min(list_nums))\n",
    "num = min_nums([34,5,4,55,4,3,1,2,.34,4])\n",
    "print(num)"
   ]
  },
  {
   "cell_type": "markdown",
   "id": "58dd0fec-51e8-4f6b-bf25-26394d85ae5d",
   "metadata": {},
   "source": [
    "##### Anagram\n",
    "* A good example problem for showing algorithms with different orders of magnitude is the classic anagram detection problem for strings.\n",
    "* One string is an anagram of another if the second is simply a rearrangement of the first. For example, 'heart' and 'earth' are anagrams.\n",
    "* The strings 'python' and 'typhon' are anagrams as well."
   ]
  },
  {
   "cell_type": "markdown",
   "id": "34886fab-eeb0-451d-984d-8fa4a61e675f",
   "metadata": {},
   "source": [
    "##### Solution One\n",
    "* Our first solution to the anagram problem will check to see that each character in the first string actually occurs in the second.\n",
    "* If it is possible to “checkoff” each character, then the two strings must be anagrams.\n",
    "* Checking off a character will be accomplished by replacing it with the special Python value None.\n",
    "* However, since strings in Python are immutable, the first step in the process will be to convert the second string to a list.\n",
    "* Each character from the first string can be checked against the characters in the list and if found, checked off by replacement."
   ]
  },
  {
   "cell_type": "code",
   "execution_count": 13,
   "id": "82e8c4aa-63e3-488e-9366-db1a53bc8eb1",
   "metadata": {},
   "outputs": [
    {
     "name": "stdout",
     "output_type": "stream",
     "text": [
      "True\n"
     ]
    }
   ],
   "source": [
    "def anagram_soln(s1, s2):\n",
    "    a_list = list(s2)\n",
    "\n",
    "    pos1 = 0\n",
    "    still_ok = True\n",
    "\n",
    "    while pos1 < len(s1) and still_ok:\n",
    "        pos2 = 0\n",
    "        found = False\n",
    "        while pos2 < len(a_list) and not found:\n",
    "            if s1[pos1] == a_list[pos2]:\n",
    "                found = True \n",
    "            else:\n",
    "                pos2 = pos2 + 1\n",
    "        if found:\n",
    "            a_list[pos2] = None\n",
    "        else:\n",
    "            still_ok = False\n",
    "        pos1 = pos1 + 1\n",
    "    return still_ok\n",
    "print(anagram_soln('abcd','dcba'))"
   ]
  },
  {
   "cell_type": "code",
   "execution_count": null,
   "id": "62076493-bd05-459b-9722-c593e69729c9",
   "metadata": {},
   "outputs": [],
   "source": []
  }
 ],
 "metadata": {
  "kernelspec": {
   "display_name": "Python 3 (ipykernel)",
   "language": "python",
   "name": "python3"
  },
  "language_info": {
   "codemirror_mode": {
    "name": "ipython",
    "version": 3
   },
   "file_extension": ".py",
   "mimetype": "text/x-python",
   "name": "python",
   "nbconvert_exporter": "python",
   "pygments_lexer": "ipython3",
   "version": "3.12.5"
  }
 },
 "nbformat": 4,
 "nbformat_minor": 5
}
